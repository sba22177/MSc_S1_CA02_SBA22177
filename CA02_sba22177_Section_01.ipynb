{
 "cells": [
  {
   "cell_type": "markdown",
   "id": "908fd061",
   "metadata": {},
   "source": [
    "# Section 1 - Data Understanding & Preparation : Irish Planning Applications"
   ]
  },
  {
   "cell_type": "markdown",
   "id": "2ec0b0a2",
   "metadata": {},
   "source": [
    "## Section 1.1 Data Understanding\n",
    "\n",
    "### Section 1.1.1 Importing Libraries"
   ]
  },
  {
   "cell_type": "code",
   "execution_count": null,
   "id": "49f3e799",
   "metadata": {},
   "outputs": [],
   "source": [
    "#Loading in the libraries required.\n",
    "import numpy as np\n",
    "import matplotlib.pyplot as plt\n",
    "import pandas as pd\n",
    "import seaborn as sns"
   ]
  },
  {
   "cell_type": "markdown",
   "id": "2dc8caf3",
   "metadata": {},
   "source": [
    "### Section 1.1.2 Importing Data"
   ]
  }
 ],
 "metadata": {
  "kernelspec": {
   "display_name": "Python 3 (ipykernel)",
   "language": "python",
   "name": "python3"
  },
  "language_info": {
   "codemirror_mode": {
    "name": "ipython",
    "version": 3
   },
   "file_extension": ".py",
   "mimetype": "text/x-python",
   "name": "python",
   "nbconvert_exporter": "python",
   "pygments_lexer": "ipython3",
   "version": "3.9.12"
  }
 },
 "nbformat": 4,
 "nbformat_minor": 5
}
