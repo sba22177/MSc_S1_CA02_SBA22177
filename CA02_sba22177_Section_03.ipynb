{
 "cells": [
  {
   "cell_type": "markdown",
   "id": "a69860e1",
   "metadata": {},
   "source": [
    "# Section 3 - WebScraping : EU Construction Industry"
   ]
  },
  {
   "cell_type": "markdown",
   "id": "b62fc839",
   "metadata": {},
   "source": [
    "webscraping:https://towardsdatascience.com/web-scraping-news-articles-in-python-9dd605799558"
   ]
  },
  {
   "cell_type": "markdown",
   "id": "ab7dcfbb",
   "metadata": {},
   "source": [
    "## Section 3.1 Importing Libraries"
   ]
  },
  {
   "cell_type": "code",
   "execution_count": 59,
   "id": "3310e3ac",
   "metadata": {},
   "outputs": [],
   "source": [
    "#importing required libraries\n",
    "import requests\n",
    "from bs4 import BeautifulSoup\n",
    "import numpy as np\n",
    "import pandas as pd\n",
    "import time\n",
    "from selenium import webdriver\n",
    "from selenium.webdriver.chrome.service import Service\n",
    "from selenium.webdriver.chrome.options import Options\n",
    "from selenium.webdriver.support.ui import WebDriverWait\n",
    "from selenium.webdriver.common.by import By\n",
    "from selenium.webdriver.support import expected_conditions as EC"
   ]
  },
  {
   "cell_type": "code",
   "execution_count": 82,
   "id": "bc9e1e59",
   "metadata": {},
   "outputs": [],
   "source": [
    "#https://www.youtube.com/watch?v=71hlQDBbbLM&list=PLz-0BiySzeQUuXoD4_mT3lex6HNi7f-YH&index=2\n",
    "# webdriver_service = Service('C:\\webdrivers\\chromedriver.exe')\n",
    "# driver = webdriver.Chrome(options=options, service=webdriver_service)\n",
    "# driver.get(url)\n",
    "\n",
    "# wait = WebDriverWait(driver, 15)\n",
    "# element=driver.find_element_by_xpath('//*[@id=\"didomi-notice-agree-button\"]')\n",
    "# element.click()\n",
    "# time.sleep(2)\n",
    "# #driver.quit()"
   ]
  },
  {
   "cell_type": "markdown",
   "id": "487afb12",
   "metadata": {},
   "source": [
    "## Section 3.2 Webscraping from Independent"
   ]
  },
  {
   "cell_type": "code",
   "execution_count": 18,
   "id": "7e03b4c7",
   "metadata": {},
   "outputs": [],
   "source": [
    "#defining the URl - query search on independent for topics realted to construction industry and housing in Ireland\n",
    "url = \"https://www.independent.ie/search?keyword=construction+industry+housing+ireland&daterange=all&datestart=&dateend=\""
   ]
  },
  {
   "cell_type": "code",
   "execution_count": 19,
   "id": "4714cd34",
   "metadata": {
    "scrolled": true
   },
   "outputs": [
    {
     "data": {
      "text/plain": [
       "10"
      ]
     },
     "execution_count": 19,
     "metadata": {},
     "output_type": "execute_result"
    }
   ],
   "source": [
    "#pulling the request\n",
    "r1 = requests.get(url)\n",
    "r1.status_code\n",
    "\n",
    "#creating soup, using the html parser\n",
    "soup1 = BeautifulSoup(coverpage, 'html.parser')\n",
    "\n",
    "#identifying the news items from the HTML CSS\n",
    "headlines_news = soup1.find_all('li', class_='indo-d382f4d9_marginbottom5 indo-ddd60156_paddingbottom5 indo-ddd60156_paddingleft0 indo-ddd60156_paddingright0 indo-ddd60156_paddingtop0 indo-9d6383c7_listitem indo-9d6383c7_listitemdivider')  #vhange this\n",
    "len(headlines_news)"
   ]
  },
  {
   "cell_type": "code",
   "execution_count": 83,
   "id": "b7a497f6",
   "metadata": {},
   "outputs": [],
   "source": [
    "number_of_articles = len(headlines_news)"
   ]
  },
  {
   "cell_type": "code",
   "execution_count": 84,
   "id": "f599ccc0",
   "metadata": {},
   "outputs": [],
   "source": [
    "#creating empty lists\n",
    "news_contents = []\n",
    "list_links = []\n",
    "list_titles = []\n",
    "\n",
    "for n in np.arange(0, number_of_articles):\n",
    "            \n",
    "    #retreiving the link for the article\n",
    "    link = headlines_news[n].find('a')['href']\n",
    "    list_links.append(link)\n",
    "    \n",
    "    #retriving the title of the article\n",
    "    title = headlines_news[n].find('a').get_text()\n",
    "    list_titles.append(title)\n",
    "    \n",
    "    #reading in the content that can be accessed without subscription\n",
    "    article = requests.get(f'https://www.independent.ie{link}') #adding the inital link to the article link\n",
    "    article_content = article.content\n",
    "    soup_article = BeautifulSoup(article_content, 'html.parser')\n",
    "    body = soup_article.find_all('div', class_='indo-1d70522a_marginbottom5 indo-1d70522a_marginleft0 indo-1d70522a_marginright0 indo-26838ee5_paddingleft0 indo-26838ee5_paddingright0 indo-7199e23_root indo-804a7bc3_root')\n",
    "    x = body[0].find_all('p')\n",
    "    \n",
    "    #getting the text from the articles\n",
    "    list_paragraphs = []\n",
    "    for p in np.arange(0, len(x)):\n",
    "        paragraph = x[p].get_text()\n",
    "        list_paragraphs.append(paragraph)\n",
    "        final_article = \" \".join(list_paragraphs)\n",
    "        \n",
    "    news_contents.append(final_article)"
   ]
  },
  {
   "cell_type": "code",
   "execution_count": 85,
   "id": "af2ff153",
   "metadata": {},
   "outputs": [
    {
     "data": {
      "text/html": [
       "<div>\n",
       "<style scoped>\n",
       "    .dataframe tbody tr th:only-of-type {\n",
       "        vertical-align: middle;\n",
       "    }\n",
       "\n",
       "    .dataframe tbody tr th {\n",
       "        vertical-align: top;\n",
       "    }\n",
       "\n",
       "    .dataframe thead th {\n",
       "        text-align: right;\n",
       "    }\n",
       "</style>\n",
       "<table border=\"1\" class=\"dataframe\">\n",
       "  <thead>\n",
       "    <tr style=\"text-align: right;\">\n",
       "      <th></th>\n",
       "      <th>Title</th>\n",
       "      <th>Content</th>\n",
       "    </tr>\n",
       "  </thead>\n",
       "  <tbody>\n",
       "    <tr>\n",
       "      <th>0</th>\n",
       "      <td>Homes Home Truths: Why a third of all new home...</td>\n",
       "      <td>What if a full one third of all the new homes ...</td>\n",
       "    </tr>\n",
       "    <tr>\n",
       "      <th>1</th>\n",
       "      <td>Irish Business Tom McEnaney: Builders of the w...</td>\n",
       "      <td>The critical issue impacting the number of hou...</td>\n",
       "    </tr>\n",
       "    <tr>\n",
       "      <th>2</th>\n",
       "      <td>Comment Eoin O’Malley: Ireland needs more buil...</td>\n",
       "      <td>The Government was excoriated in the Dáil last...</td>\n",
       "    </tr>\n",
       "    <tr>\n",
       "      <th>3</th>\n",
       "      <td>Business Public Private Partnership’s bad rap ...</td>\n",
       "      <td>Ray Wilson knows public private partnership (P...</td>\n",
       "    </tr>\n",
       "    <tr>\n",
       "      <th>4</th>\n",
       "      <td>Irish News Housing Minister Darragh O’Brien on...</td>\n",
       "      <td>If self-confidence built homes, Darragh O’Brie...</td>\n",
       "    </tr>\n",
       "    <tr>\n",
       "      <th>5</th>\n",
       "      <td>Personal Finance One solution to the housing c...</td>\n",
       "      <td>Declan Dunne rarely focuses on blame or on the...</td>\n",
       "    </tr>\n",
       "    <tr>\n",
       "      <th>6</th>\n",
       "      <td>Irish Business More than half of developers ha...</td>\n",
       "      <td>Over half of housing developers have postponed...</td>\n",
       "    </tr>\n",
       "    <tr>\n",
       "      <th>7</th>\n",
       "      <td>Personal Finance Richard Curran: I warned of a...</td>\n",
       "      <td>They say the past is a different country. And ...</td>\n",
       "    </tr>\n",
       "    <tr>\n",
       "      <th>8</th>\n",
       "      <td>World Business Spectre of 2008 crisis hovers o...</td>\n",
       "      <td>The collapse of Silicon Valley Bank (SVB) and ...</td>\n",
       "    </tr>\n",
       "    <tr>\n",
       "      <th>9</th>\n",
       "      <td>Irish News An extra 50,000 homes could be deli...</td>\n",
       "      <td>An extra 50,000 homes can be delivered in the ...</td>\n",
       "    </tr>\n",
       "  </tbody>\n",
       "</table>\n",
       "</div>"
      ],
      "text/plain": [
       "                                               Title  \\\n",
       "0  Homes Home Truths: Why a third of all new home...   \n",
       "1  Irish Business Tom McEnaney: Builders of the w...   \n",
       "2  Comment Eoin O’Malley: Ireland needs more buil...   \n",
       "3  Business Public Private Partnership’s bad rap ...   \n",
       "4  Irish News Housing Minister Darragh O’Brien on...   \n",
       "5  Personal Finance One solution to the housing c...   \n",
       "6  Irish Business More than half of developers ha...   \n",
       "7  Personal Finance Richard Curran: I warned of a...   \n",
       "8  World Business Spectre of 2008 crisis hovers o...   \n",
       "9  Irish News An extra 50,000 homes could be deli...   \n",
       "\n",
       "                                             Content  \n",
       "0  What if a full one third of all the new homes ...  \n",
       "1  The critical issue impacting the number of hou...  \n",
       "2  The Government was excoriated in the Dáil last...  \n",
       "3  Ray Wilson knows public private partnership (P...  \n",
       "4  If self-confidence built homes, Darragh O’Brie...  \n",
       "5  Declan Dunne rarely focuses on blame or on the...  \n",
       "6  Over half of housing developers have postponed...  \n",
       "7  They say the past is a different country. And ...  \n",
       "8  The collapse of Silicon Valley Bank (SVB) and ...  \n",
       "9  An extra 50,000 homes can be delivered in the ...  "
      ]
     },
     "execution_count": 85,
     "metadata": {},
     "output_type": "execute_result"
    }
   ],
   "source": [
    "#creating dataframes from the list data and merging into data frames\n",
    "list_titles_df=pd.DataFrame(list_titles, columns=['Title'])\n",
    "news_contents_df=pd.DataFrame(news_contents, columns=['Content'])\n",
    "final_data=pd.merge(list_titles_df, news_contents_df, how='outer', left_index=True, right_index=True)\n",
    "final_data"
   ]
  },
  {
   "cell_type": "code",
   "execution_count": 88,
   "id": "dc847ab6",
   "metadata": {},
   "outputs": [],
   "source": [
    "#exporting to a csv\n",
    "final_data.to_csv('webscraped_data.csv', index=False)"
   ]
  }
 ],
 "metadata": {
  "kernelspec": {
   "display_name": "Python 3 (ipykernel)",
   "language": "python",
   "name": "python3"
  },
  "language_info": {
   "codemirror_mode": {
    "name": "ipython",
    "version": 3
   },
   "file_extension": ".py",
   "mimetype": "text/x-python",
   "name": "python",
   "nbconvert_exporter": "python",
   "pygments_lexer": "ipython3",
   "version": "3.9.12"
  }
 },
 "nbformat": 4,
 "nbformat_minor": 5
}
