{
 "cells": [
  {
   "cell_type": "markdown",
   "id": "5c0226db",
   "metadata": {},
   "source": [
    "# Section 4 - Machine Learning : EU Construction Industry"
   ]
  },
  {
   "cell_type": "markdown",
   "id": "5eb9a5b4",
   "metadata": {},
   "source": [
    "## Section 4.1 Importing Libraries and data"
   ]
  },
  {
   "cell_type": "code",
   "execution_count": 1,
   "id": "2c1fc23a",
   "metadata": {},
   "outputs": [],
   "source": [
    "#Loading in the libraries required.\n",
    "import numpy as np\n",
    "import matplotlib.pyplot as plt\n",
    "import pandas as pd\n",
    "import seaborn as sns\n",
    "import re\n",
    "from textblob import TextBlob\n",
    "from wordcloud import WordCloud, STOPWORDS\n",
    "from requests_html import HTMLSession\n",
    "import asyncio\n",
    "import nest_asyncio\n",
    "import requests\n",
    "from bs4 import BeautifulSoup\n",
    "from urllib.parse import urljoin\n",
    "from collections import Counter\n",
    "import nltk\n",
    "from nltk.corpus import stopwords"
   ]
  },
  {
   "cell_type": "code",
   "execution_count": 2,
   "id": "59c994ef",
   "metadata": {},
   "outputs": [],
   "source": [
    "#importing data\n",
    "web_data = pd.read_csv('webscraped_data.csv',encoding=\"utf-8\")"
   ]
  },
  {
   "cell_type": "markdown",
   "id": "b55d58e9",
   "metadata": {},
   "source": [
    "## Section 4.2 Sentiment Analysis"
   ]
  },
  {
   "cell_type": "code",
   "execution_count": 3,
   "id": "1d79d76d",
   "metadata": {},
   "outputs": [
    {
     "data": {
      "text/html": [
       "<div>\n",
       "<style scoped>\n",
       "    .dataframe tbody tr th:only-of-type {\n",
       "        vertical-align: middle;\n",
       "    }\n",
       "\n",
       "    .dataframe tbody tr th {\n",
       "        vertical-align: top;\n",
       "    }\n",
       "\n",
       "    .dataframe thead th {\n",
       "        text-align: right;\n",
       "    }\n",
       "</style>\n",
       "<table border=\"1\" class=\"dataframe\">\n",
       "  <thead>\n",
       "    <tr style=\"text-align: right;\">\n",
       "      <th></th>\n",
       "      <th>Title</th>\n",
       "      <th>Content</th>\n",
       "    </tr>\n",
       "  </thead>\n",
       "  <tbody>\n",
       "    <tr>\n",
       "      <th>0</th>\n",
       "      <td>Homes Home Truths: Why a third of all new home...</td>\n",
       "      <td>What if a full one third of all the new homes ...</td>\n",
       "    </tr>\n",
       "    <tr>\n",
       "      <th>1</th>\n",
       "      <td>Irish Business Tom McEnaney: Builders of the w...</td>\n",
       "      <td>The critical issue impacting the number of hou...</td>\n",
       "    </tr>\n",
       "    <tr>\n",
       "      <th>2</th>\n",
       "      <td>Comment Eoin O’Malley: Ireland needs more buil...</td>\n",
       "      <td>The Government was excoriated in the Dáil last...</td>\n",
       "    </tr>\n",
       "    <tr>\n",
       "      <th>3</th>\n",
       "      <td>Business Public Private Partnership’s bad rap ...</td>\n",
       "      <td>Ray Wilson knows public private partnership (P...</td>\n",
       "    </tr>\n",
       "    <tr>\n",
       "      <th>4</th>\n",
       "      <td>Irish News Housing Minister Darragh O’Brien on...</td>\n",
       "      <td>If self-confidence built homes, Darragh O’Brie...</td>\n",
       "    </tr>\n",
       "    <tr>\n",
       "      <th>5</th>\n",
       "      <td>Personal Finance One solution to the housing c...</td>\n",
       "      <td>Declan Dunne rarely focuses on blame or on the...</td>\n",
       "    </tr>\n",
       "    <tr>\n",
       "      <th>6</th>\n",
       "      <td>Irish Business More than half of developers ha...</td>\n",
       "      <td>Over half of housing developers have postponed...</td>\n",
       "    </tr>\n",
       "    <tr>\n",
       "      <th>7</th>\n",
       "      <td>Personal Finance Richard Curran: I warned of a...</td>\n",
       "      <td>They say the past is a different country. And ...</td>\n",
       "    </tr>\n",
       "    <tr>\n",
       "      <th>8</th>\n",
       "      <td>World Business Spectre of 2008 crisis hovers o...</td>\n",
       "      <td>The collapse of Silicon Valley Bank (SVB) and ...</td>\n",
       "    </tr>\n",
       "    <tr>\n",
       "      <th>9</th>\n",
       "      <td>Irish News An extra 50,000 homes could be deli...</td>\n",
       "      <td>An extra 50,000 homes can be delivered in the ...</td>\n",
       "    </tr>\n",
       "  </tbody>\n",
       "</table>\n",
       "</div>"
      ],
      "text/plain": [
       "                                               Title  \\\n",
       "0  Homes Home Truths: Why a third of all new home...   \n",
       "1  Irish Business Tom McEnaney: Builders of the w...   \n",
       "2  Comment Eoin O’Malley: Ireland needs more buil...   \n",
       "3  Business Public Private Partnership’s bad rap ...   \n",
       "4  Irish News Housing Minister Darragh O’Brien on...   \n",
       "5  Personal Finance One solution to the housing c...   \n",
       "6  Irish Business More than half of developers ha...   \n",
       "7  Personal Finance Richard Curran: I warned of a...   \n",
       "8  World Business Spectre of 2008 crisis hovers o...   \n",
       "9  Irish News An extra 50,000 homes could be deli...   \n",
       "\n",
       "                                             Content  \n",
       "0  What if a full one third of all the new homes ...  \n",
       "1  The critical issue impacting the number of hou...  \n",
       "2  The Government was excoriated in the Dáil last...  \n",
       "3  Ray Wilson knows public private partnership (P...  \n",
       "4  If self-confidence built homes, Darragh O’Brie...  \n",
       "5  Declan Dunne rarely focuses on blame or on the...  \n",
       "6  Over half of housing developers have postponed...  \n",
       "7  They say the past is a different country. And ...  \n",
       "8  The collapse of Silicon Valley Bank (SVB) and ...  \n",
       "9  An extra 50,000 homes can be delivered in the ...  "
      ]
     },
     "execution_count": 3,
     "metadata": {},
     "output_type": "execute_result"
    }
   ],
   "source": [
    "#viewing data table\n",
    "web_data"
   ]
  },
  {
   "cell_type": "markdown",
   "id": "ccec023a",
   "metadata": {},
   "source": [
    "https://medium.com/@wisjnujudho/how-to-scrape-google-news-top-stories-bs4-nopagination-80b882a214e5\n",
    "    https://www.geeksforgeeks.org/web-scraping-financial-news-using-python/"
   ]
  },
  {
   "cell_type": "markdown",
   "id": "43a0cb7f",
   "metadata": {},
   "source": [
    "### Section 4.2.1 Data Prep"
   ]
  },
  {
   "cell_type": "markdown",
   "id": "bb82b6ca",
   "metadata": {},
   "source": [
    "https://medium.com/@kiddojazz/reddit-sentiment-analysis-f8a1a790124a"
   ]
  },
  {
   "cell_type": "code",
   "execution_count": 4,
   "id": "add77cf9",
   "metadata": {},
   "outputs": [
    {
     "data": {
      "text/plain": [
       "0"
      ]
     },
     "execution_count": 4,
     "metadata": {},
     "output_type": "execute_result"
    }
   ],
   "source": [
    "#checking for duplicates\n",
    "web_data.duplicated().sum()"
   ]
  },
  {
   "cell_type": "code",
   "execution_count": 5,
   "id": "3395e27c",
   "metadata": {},
   "outputs": [],
   "source": [
    "# #removing unwanted characters and replacing with a blank like @, #, hyperlinks and :\n",
    "# def cleantext(text):\n",
    "#     text = re.sub(r'@[A-Za-z0–9]+', '', text)\n",
    "#     text = re.sub(r'’','', str(text))\n",
    "#     text = re.sub(r'#', '', text)\n",
    "#     text = re.sub(r'https?:\\/\\/\\S+', '', text) \n",
    "#     text = re.sub(r':', '', text) \n",
    "#     return text\n",
    "# #using the function to clean the text\n",
    "# web_data['Title']= web_data['Title'].apply(cleantext)\n",
    "# #viewing the results\n",
    "# web_data"
   ]
  },
  {
   "cell_type": "markdown",
   "id": "b2a07722",
   "metadata": {},
   "source": [
    "### Section 4.2.2 Subjectivity and Polarity"
   ]
  },
  {
   "cell_type": "code",
   "execution_count": 6,
   "id": "634a2c9e",
   "metadata": {},
   "outputs": [],
   "source": [
    "#defining functions for subjectivity and polarity\n",
    "def subjectivity(text):\n",
    "    return TextBlob(text).sentiment.subjectivity\n",
    "\n",
    "def polarity(text):\n",
    "    return TextBlob(text).sentiment.polarity"
   ]
  },
  {
   "cell_type": "code",
   "execution_count": 7,
   "id": "1a4c4e77",
   "metadata": {},
   "outputs": [
    {
     "data": {
      "text/html": [
       "<div>\n",
       "<style scoped>\n",
       "    .dataframe tbody tr th:only-of-type {\n",
       "        vertical-align: middle;\n",
       "    }\n",
       "\n",
       "    .dataframe tbody tr th {\n",
       "        vertical-align: top;\n",
       "    }\n",
       "\n",
       "    .dataframe thead th {\n",
       "        text-align: right;\n",
       "    }\n",
       "</style>\n",
       "<table border=\"1\" class=\"dataframe\">\n",
       "  <thead>\n",
       "    <tr style=\"text-align: right;\">\n",
       "      <th></th>\n",
       "      <th>Title</th>\n",
       "      <th>Content</th>\n",
       "      <th>Subjectivity</th>\n",
       "      <th>Polarity</th>\n",
       "    </tr>\n",
       "  </thead>\n",
       "  <tbody>\n",
       "    <tr>\n",
       "      <th>0</th>\n",
       "      <td>Homes Home Truths: Why a third of all new home...</td>\n",
       "      <td>What if a full one third of all the new homes ...</td>\n",
       "      <td>0.173737</td>\n",
       "      <td>0.056566</td>\n",
       "    </tr>\n",
       "    <tr>\n",
       "      <th>1</th>\n",
       "      <td>Irish Business Tom McEnaney: Builders of the w...</td>\n",
       "      <td>The critical issue impacting the number of hou...</td>\n",
       "      <td>0.000000</td>\n",
       "      <td>0.000000</td>\n",
       "    </tr>\n",
       "    <tr>\n",
       "      <th>2</th>\n",
       "      <td>Comment Eoin O’Malley: Ireland needs more buil...</td>\n",
       "      <td>The Government was excoriated in the Dáil last...</td>\n",
       "      <td>0.500000</td>\n",
       "      <td>0.500000</td>\n",
       "    </tr>\n",
       "    <tr>\n",
       "      <th>3</th>\n",
       "      <td>Business Public Private Partnership’s bad rap ...</td>\n",
       "      <td>Ray Wilson knows public private partnership (P...</td>\n",
       "      <td>0.352083</td>\n",
       "      <td>-0.250000</td>\n",
       "    </tr>\n",
       "    <tr>\n",
       "      <th>4</th>\n",
       "      <td>Irish News Housing Minister Darragh O’Brien on...</td>\n",
       "      <td>If self-confidence built homes, Darragh O’Brie...</td>\n",
       "      <td>0.333333</td>\n",
       "      <td>0.333333</td>\n",
       "    </tr>\n",
       "  </tbody>\n",
       "</table>\n",
       "</div>"
      ],
      "text/plain": [
       "                                               Title  \\\n",
       "0  Homes Home Truths: Why a third of all new home...   \n",
       "1  Irish Business Tom McEnaney: Builders of the w...   \n",
       "2  Comment Eoin O’Malley: Ireland needs more buil...   \n",
       "3  Business Public Private Partnership’s bad rap ...   \n",
       "4  Irish News Housing Minister Darragh O’Brien on...   \n",
       "\n",
       "                                             Content  Subjectivity  Polarity  \n",
       "0  What if a full one third of all the new homes ...      0.173737  0.056566  \n",
       "1  The critical issue impacting the number of hou...      0.000000  0.000000  \n",
       "2  The Government was excoriated in the Dáil last...      0.500000  0.500000  \n",
       "3  Ray Wilson knows public private partnership (P...      0.352083 -0.250000  \n",
       "4  If self-confidence built homes, Darragh O’Brie...      0.333333  0.333333  "
      ]
     },
     "execution_count": 7,
     "metadata": {},
     "output_type": "execute_result"
    }
   ],
   "source": [
    "#generating the polarity and subjectivity results and adding as columns to dataframe\n",
    "web_data['Subjectivity']=web_data['Title'].apply(subjectivity)\n",
    "web_data['Polarity']=web_data['Title'].apply(polarity)\n",
    "web_data.head()"
   ]
  },
  {
   "cell_type": "code",
   "execution_count": 8,
   "id": "6988aee0",
   "metadata": {},
   "outputs": [],
   "source": [
    "#define polarity with text labels\n",
    "def Insight(score):\n",
    "    if score < 0:\n",
    "        return 'Negative'\n",
    "    elif score == 0:\n",
    "        return 'Neutral'\n",
    "    else:\n",
    "        return 'Positive'"
   ]
  },
  {
   "cell_type": "code",
   "execution_count": 9,
   "id": "3d6d895d",
   "metadata": {},
   "outputs": [
    {
     "data": {
      "text/html": [
       "<div>\n",
       "<style scoped>\n",
       "    .dataframe tbody tr th:only-of-type {\n",
       "        vertical-align: middle;\n",
       "    }\n",
       "\n",
       "    .dataframe tbody tr th {\n",
       "        vertical-align: top;\n",
       "    }\n",
       "\n",
       "    .dataframe thead th {\n",
       "        text-align: right;\n",
       "    }\n",
       "</style>\n",
       "<table border=\"1\" class=\"dataframe\">\n",
       "  <thead>\n",
       "    <tr style=\"text-align: right;\">\n",
       "      <th></th>\n",
       "      <th>Title</th>\n",
       "      <th>Content</th>\n",
       "      <th>Subjectivity</th>\n",
       "      <th>Polarity</th>\n",
       "      <th>Insight</th>\n",
       "    </tr>\n",
       "  </thead>\n",
       "  <tbody>\n",
       "    <tr>\n",
       "      <th>0</th>\n",
       "      <td>Homes Home Truths: Why a third of all new home...</td>\n",
       "      <td>What if a full one third of all the new homes ...</td>\n",
       "      <td>0.173737</td>\n",
       "      <td>0.056566</td>\n",
       "      <td>Positive</td>\n",
       "    </tr>\n",
       "    <tr>\n",
       "      <th>1</th>\n",
       "      <td>Irish Business Tom McEnaney: Builders of the w...</td>\n",
       "      <td>The critical issue impacting the number of hou...</td>\n",
       "      <td>0.000000</td>\n",
       "      <td>0.000000</td>\n",
       "      <td>Neutral</td>\n",
       "    </tr>\n",
       "    <tr>\n",
       "      <th>2</th>\n",
       "      <td>Comment Eoin O’Malley: Ireland needs more buil...</td>\n",
       "      <td>The Government was excoriated in the Dáil last...</td>\n",
       "      <td>0.500000</td>\n",
       "      <td>0.500000</td>\n",
       "      <td>Positive</td>\n",
       "    </tr>\n",
       "    <tr>\n",
       "      <th>3</th>\n",
       "      <td>Business Public Private Partnership’s bad rap ...</td>\n",
       "      <td>Ray Wilson knows public private partnership (P...</td>\n",
       "      <td>0.352083</td>\n",
       "      <td>-0.250000</td>\n",
       "      <td>Negative</td>\n",
       "    </tr>\n",
       "    <tr>\n",
       "      <th>4</th>\n",
       "      <td>Irish News Housing Minister Darragh O’Brien on...</td>\n",
       "      <td>If self-confidence built homes, Darragh O’Brie...</td>\n",
       "      <td>0.333333</td>\n",
       "      <td>0.333333</td>\n",
       "      <td>Positive</td>\n",
       "    </tr>\n",
       "    <tr>\n",
       "      <th>5</th>\n",
       "      <td>Personal Finance One solution to the housing c...</td>\n",
       "      <td>Declan Dunne rarely focuses on blame or on the...</td>\n",
       "      <td>0.183333</td>\n",
       "      <td>0.016667</td>\n",
       "      <td>Positive</td>\n",
       "    </tr>\n",
       "    <tr>\n",
       "      <th>6</th>\n",
       "      <td>Irish Business More than half of developers ha...</td>\n",
       "      <td>Over half of housing developers have postponed...</td>\n",
       "      <td>0.222222</td>\n",
       "      <td>0.111111</td>\n",
       "      <td>Positive</td>\n",
       "    </tr>\n",
       "    <tr>\n",
       "      <th>7</th>\n",
       "      <td>Personal Finance Richard Curran: I warned of a...</td>\n",
       "      <td>They say the past is a different country. And ...</td>\n",
       "      <td>0.300000</td>\n",
       "      <td>0.000000</td>\n",
       "      <td>Neutral</td>\n",
       "    </tr>\n",
       "    <tr>\n",
       "      <th>8</th>\n",
       "      <td>World Business Spectre of 2008 crisis hovers o...</td>\n",
       "      <td>The collapse of Silicon Valley Bank (SVB) and ...</td>\n",
       "      <td>0.000000</td>\n",
       "      <td>0.000000</td>\n",
       "      <td>Neutral</td>\n",
       "    </tr>\n",
       "    <tr>\n",
       "      <th>9</th>\n",
       "      <td>Irish News An extra 50,000 homes could be deli...</td>\n",
       "      <td>An extra 50,000 homes can be delivered in the ...</td>\n",
       "      <td>0.050000</td>\n",
       "      <td>0.000000</td>\n",
       "      <td>Neutral</td>\n",
       "    </tr>\n",
       "  </tbody>\n",
       "</table>\n",
       "</div>"
      ],
      "text/plain": [
       "                                               Title  \\\n",
       "0  Homes Home Truths: Why a third of all new home...   \n",
       "1  Irish Business Tom McEnaney: Builders of the w...   \n",
       "2  Comment Eoin O’Malley: Ireland needs more buil...   \n",
       "3  Business Public Private Partnership’s bad rap ...   \n",
       "4  Irish News Housing Minister Darragh O’Brien on...   \n",
       "5  Personal Finance One solution to the housing c...   \n",
       "6  Irish Business More than half of developers ha...   \n",
       "7  Personal Finance Richard Curran: I warned of a...   \n",
       "8  World Business Spectre of 2008 crisis hovers o...   \n",
       "9  Irish News An extra 50,000 homes could be deli...   \n",
       "\n",
       "                                             Content  Subjectivity  Polarity  \\\n",
       "0  What if a full one third of all the new homes ...      0.173737  0.056566   \n",
       "1  The critical issue impacting the number of hou...      0.000000  0.000000   \n",
       "2  The Government was excoriated in the Dáil last...      0.500000  0.500000   \n",
       "3  Ray Wilson knows public private partnership (P...      0.352083 -0.250000   \n",
       "4  If self-confidence built homes, Darragh O’Brie...      0.333333  0.333333   \n",
       "5  Declan Dunne rarely focuses on blame or on the...      0.183333  0.016667   \n",
       "6  Over half of housing developers have postponed...      0.222222  0.111111   \n",
       "7  They say the past is a different country. And ...      0.300000  0.000000   \n",
       "8  The collapse of Silicon Valley Bank (SVB) and ...      0.000000  0.000000   \n",
       "9  An extra 50,000 homes can be delivered in the ...      0.050000  0.000000   \n",
       "\n",
       "    Insight  \n",
       "0  Positive  \n",
       "1   Neutral  \n",
       "2  Positive  \n",
       "3  Negative  \n",
       "4  Positive  \n",
       "5  Positive  \n",
       "6  Positive  \n",
       "7   Neutral  \n",
       "8   Neutral  \n",
       "9   Neutral  "
      ]
     },
     "execution_count": 9,
     "metadata": {},
     "output_type": "execute_result"
    }
   ],
   "source": [
    "#adding a column insight for grouping the sentiments\n",
    "web_data['Insight'] = web_data['Polarity'].apply(Insight)\n",
    "web_data.head(50)"
   ]
  },
  {
   "cell_type": "code",
   "execution_count": 10,
   "id": "7509b04d",
   "metadata": {},
   "outputs": [
    {
     "data": {
      "text/plain": [
       "<function matplotlib.pyplot.show(close=None, block=None)>"
      ]
     },
     "execution_count": 10,
     "metadata": {},
     "output_type": "execute_result"
    },
    {
     "data": {
      "image/png": "[encoded data removed]",
      "text/plain": [
       "<Figure size 432x288 with 1 Axes>"
      ]
     },
     "metadata": {
      "needs_background": "light"
     },
     "output_type": "display_data"
    }
   ],
   "source": [
    "#visualise the insights\n",
    "plt.title('Independent News Sentiment Score')\n",
    "plt.xlabel('Sentiment')\n",
    "plt.ylabel('Score')\n",
    "plt.rcParams['figure.figsize']=(10,8)\n",
    "web_data['Insight'].value_counts().plot(kind='bar')\n",
    "plt.show"
   ]
  },
  {
   "cell_type": "markdown",
   "id": "7619573e",
   "metadata": {},
   "source": [
    "### Section 4.2.3 Wordcloud"
   ]
  },
  {
   "cell_type": "code",
   "execution_count": 20,
   "id": "a3b4a4f3",
   "metadata": {},
   "outputs": [
    {
     "data": {
      "text/plain": [
       "{'a',\n",
       " 'about',\n",
       " 'above',\n",
       " 'after',\n",
       " 'again',\n",
       " 'against',\n",
       " 'all',\n",
       " 'also',\n",
       " 'am',\n",
       " 'an',\n",
       " 'and',\n",
       " 'any',\n",
       " 'are',\n",
       " \"aren't\",\n",
       " 'as',\n",
       " 'at',\n",
       " 'be',\n",
       " 'because',\n",
       " 'been',\n",
       " 'before',\n",
       " 'being',\n",
       " 'below',\n",
       " 'between',\n",
       " 'both',\n",
       " 'but',\n",
       " 'by',\n",
       " 'can',\n",
       " \"can't\",\n",
       " 'cannot',\n",
       " 'com',\n",
       " 'could',\n",
       " \"couldn't\",\n",
       " 'did',\n",
       " \"didn't\",\n",
       " 'do',\n",
       " 'does',\n",
       " \"doesn't\",\n",
       " 'doing',\n",
       " \"don't\",\n",
       " 'down',\n",
       " 'during',\n",
       " 'each',\n",
       " 'else',\n",
       " 'ever',\n",
       " 'few',\n",
       " 'for',\n",
       " 'from',\n",
       " 'further',\n",
       " 'get',\n",
       " 'had',\n",
       " \"hadn't\",\n",
       " 'has',\n",
       " \"hasn't\",\n",
       " 'have',\n",
       " \"haven't\",\n",
       " 'having',\n",
       " 'he',\n",
       " \"he'd\",\n",
       " \"he'll\",\n",
       " \"he's\",\n",
       " 'hence',\n",
       " 'her',\n",
       " 'here',\n",
       " \"here's\",\n",
       " 'hers',\n",
       " 'herself',\n",
       " 'him',\n",
       " 'himself',\n",
       " 'his',\n",
       " 'how',\n",
       " \"how's\",\n",
       " 'however',\n",
       " 'http',\n",
       " 'i',\n",
       " \"i'd\",\n",
       " \"i'll\",\n",
       " \"i'm\",\n",
       " \"i've\",\n",
       " 'if',\n",
       " 'in',\n",
       " 'into',\n",
       " 'is',\n",
       " \"isn't\",\n",
       " 'it',\n",
       " \"it's\",\n",
       " 'its',\n",
       " 'itself',\n",
       " 'just',\n",
       " 'k',\n",
       " \"let's\",\n",
       " 'like',\n",
       " 'me',\n",
       " 'more',\n",
       " 'most',\n",
       " \"mustn't\",\n",
       " 'my',\n",
       " 'myself',\n",
       " 'no',\n",
       " 'nor',\n",
       " 'not',\n",
       " 'of',\n",
       " 'off',\n",
       " 'on',\n",
       " 'once',\n",
       " 'only',\n",
       " 'or',\n",
       " 'other',\n",
       " 'otherwise',\n",
       " 'ought',\n",
       " 'our',\n",
       " 'ours',\n",
       " 'ourselves',\n",
       " 'out',\n",
       " 'over',\n",
       " 'own',\n",
       " 'r',\n",
       " 'same',\n",
       " 'shall',\n",
       " \"shan't\",\n",
       " 'she',\n",
       " \"she'd\",\n",
       " \"she'll\",\n",
       " \"she's\",\n",
       " 'should',\n",
       " \"shouldn't\",\n",
       " 'since',\n",
       " 'so',\n",
       " 'some',\n",
       " 'such',\n",
       " 'than',\n",
       " 'that',\n",
       " \"that's\",\n",
       " 'the',\n",
       " 'their',\n",
       " 'theirs',\n",
       " 'them',\n",
       " 'themselves',\n",
       " 'then',\n",
       " 'there',\n",
       " \"there's\",\n",
       " 'therefore',\n",
       " 'these',\n",
       " 'they',\n",
       " \"they'd\",\n",
       " \"they'll\",\n",
       " \"they're\",\n",
       " \"they've\",\n",
       " 'this',\n",
       " 'those',\n",
       " 'through',\n",
       " 'to',\n",
       " 'too',\n",
       " 'under',\n",
       " 'until',\n",
       " 'up',\n",
       " 'very',\n",
       " 'was',\n",
       " \"wasn't\",\n",
       " 'we',\n",
       " \"we'd\",\n",
       " \"we'll\",\n",
       " \"we're\",\n",
       " \"we've\",\n",
       " 'were',\n",
       " \"weren't\",\n",
       " 'what',\n",
       " \"what's\",\n",
       " 'when',\n",
       " \"when's\",\n",
       " 'where',\n",
       " \"where's\",\n",
       " 'which',\n",
       " 'while',\n",
       " 'who',\n",
       " \"who's\",\n",
       " 'whom',\n",
       " 'why',\n",
       " \"why's\",\n",
       " 'with',\n",
       " \"won't\",\n",
       " 'would',\n",
       " \"wouldn't\",\n",
       " 'www',\n",
       " 'you',\n",
       " \"you'd\",\n",
       " \"you'll\",\n",
       " \"you're\",\n",
       " \"you've\",\n",
       " 'your',\n",
       " 'yours',\n",
       " 'yourself',\n",
       " 'yourselves'}"
      ]
     },
     "execution_count": 20,
     "metadata": {},
     "output_type": "execute_result"
    }
   ],
   "source": [
    "stopwords"
   ]
  },
  {
   "cell_type": "code",
   "execution_count": 12,
   "id": "b70f87e3",
   "metadata": {},
   "outputs": [],
   "source": [
    "#cleaning the data\n",
    "stopwords = set(STOPWORDS)\n",
    "word_cloud_data=web_data[['Title', 'Content']]\n",
    "wordcloud_data=word_cloud_data.apply(lambda x: [w for w in x if w not in stopwords])"
   ]
  },
  {
   "cell_type": "code",
   "execution_count": 13,
   "id": "dc6ba0bc",
   "metadata": {},
   "outputs": [
    {
     "data": {
      "text/html": [
       "<div>\n",
       "<style scoped>\n",
       "    .dataframe tbody tr th:only-of-type {\n",
       "        vertical-align: middle;\n",
       "    }\n",
       "\n",
       "    .dataframe tbody tr th {\n",
       "        vertical-align: top;\n",
       "    }\n",
       "\n",
       "    .dataframe thead th {\n",
       "        text-align: right;\n",
       "    }\n",
       "</style>\n",
       "<table border=\"1\" class=\"dataframe\">\n",
       "  <thead>\n",
       "    <tr style=\"text-align: right;\">\n",
       "      <th></th>\n",
       "      <th>Title</th>\n",
       "      <th>Content</th>\n",
       "    </tr>\n",
       "  </thead>\n",
       "  <tbody>\n",
       "    <tr>\n",
       "      <th>0</th>\n",
       "      <td>Homes Home Truths: Why a third of all new home...</td>\n",
       "      <td>What if a full one third of all the new homes ...</td>\n",
       "    </tr>\n",
       "    <tr>\n",
       "      <th>1</th>\n",
       "      <td>Irish Business Tom McEnaney: Builders of the w...</td>\n",
       "      <td>The critical issue impacting the number of hou...</td>\n",
       "    </tr>\n",
       "    <tr>\n",
       "      <th>2</th>\n",
       "      <td>Comment Eoin O’Malley: Ireland needs more buil...</td>\n",
       "      <td>The Government was excoriated in the Dáil last...</td>\n",
       "    </tr>\n",
       "    <tr>\n",
       "      <th>3</th>\n",
       "      <td>Business Public Private Partnership’s bad rap ...</td>\n",
       "      <td>Ray Wilson knows public private partnership (P...</td>\n",
       "    </tr>\n",
       "    <tr>\n",
       "      <th>4</th>\n",
       "      <td>Irish News Housing Minister Darragh O’Brien on...</td>\n",
       "      <td>If self-confidence built homes, Darragh O’Brie...</td>\n",
       "    </tr>\n",
       "  </tbody>\n",
       "</table>\n",
       "</div>"
      ],
      "text/plain": [
       "                                               Title  \\\n",
       "0  Homes Home Truths: Why a third of all new home...   \n",
       "1  Irish Business Tom McEnaney: Builders of the w...   \n",
       "2  Comment Eoin O’Malley: Ireland needs more buil...   \n",
       "3  Business Public Private Partnership’s bad rap ...   \n",
       "4  Irish News Housing Minister Darragh O’Brien on...   \n",
       "\n",
       "                                             Content  \n",
       "0  What if a full one third of all the new homes ...  \n",
       "1  The critical issue impacting the number of hou...  \n",
       "2  The Government was excoriated in the Dáil last...  \n",
       "3  Ray Wilson knows public private partnership (P...  \n",
       "4  If self-confidence built homes, Darragh O’Brie...  "
      ]
     },
     "execution_count": 13,
     "metadata": {},
     "output_type": "execute_result"
    }
   ],
   "source": [
    "wordcloud_data.head()"
   ]
  },
  {
   "cell_type": "code",
   "execution_count": 14,
   "id": "89650912",
   "metadata": {},
   "outputs": [],
   "source": [
    "wordcloud_data['Text']=wordcloud_data['Title']+ ' '+wordcloud_data['Content']"
   ]
  },
  {
   "cell_type": "code",
   "execution_count": 15,
   "id": "a793ec24",
   "metadata": {},
   "outputs": [],
   "source": [
    "wordcloud_list=' '.join(wordcloud_data['Text']).lower().split()"
   ]
  },
  {
   "cell_type": "code",
   "execution_count": 16,
   "id": "236571df",
   "metadata": {},
   "outputs": [],
   "source": [
    "counts=Counter(wordcloud_list)"
   ]
  },
  {
   "cell_type": "code",
   "execution_count": 17,
   "id": "5d122385",
   "metadata": {},
   "outputs": [],
   "source": [
    "top_ten=dict(counts.most_common(10))"
   ]
  },
  {
   "cell_type": "code",
   "execution_count": 18,
   "id": "0108d7a3",
   "metadata": {},
   "outputs": [
    {
     "data": {
      "text/plain": [
       "{'the': 31,\n",
       " 'of': 20,\n",
       " 'a': 14,\n",
       " 'in': 14,\n",
       " 'and': 13,\n",
       " 'to': 12,\n",
       " 'at': 11,\n",
       " '03:30': 9,\n",
       " 'be': 7,\n",
       " 'housing': 7}"
      ]
     },
     "execution_count": 18,
     "metadata": {},
     "output_type": "execute_result"
    }
   ],
   "source": [
    "top_ten"
   ]
  },
  {
   "cell_type": "code",
   "execution_count": 19,
   "id": "5a017552",
   "metadata": {},
   "outputs": [
    {
     "data": {
      "image/png": "[encoded data removed]",
      "text/plain": [
       "<Figure size 720x360 with 1 Axes>"
      ]
     },
     "metadata": {
      "needs_background": "light"
     },
     "output_type": "display_data"
    }
   ],
   "source": [
    "wordcloud = WordCloud(width=800, height=400, background_color='white').generate_from_frequencies(top_ten)\n",
    "\n",
    "# Display the generated image:\n",
    "plt.figure(figsize=(10, 5))\n",
    "plt.imshow(wordcloud, interpolation='bilinear')\n",
    "plt.axis(\"off\")\n",
    "plt.show()"
   ]
  }
 ],
 "metadata": {
  "kernelspec": {
   "display_name": "Python 3 (ipykernel)",
   "language": "python",
   "name": "python3"
  },
  "language_info": {
   "codemirror_mode": {
    "name": "ipython",
    "version": 3
   },
   "file_extension": ".py",
   "mimetype": "text/x-python",
   "name": "python",
   "nbconvert_exporter": "python",
   "pygments_lexer": "ipython3",
   "version": "3.9.12"
  }
 },
 "nbformat": 4,
 "nbformat_minor": 5
}
